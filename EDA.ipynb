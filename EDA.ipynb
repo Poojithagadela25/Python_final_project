{
 "cells": [
  {
   "cell_type": "code",
   "execution_count": null,
   "id": "0d60fa2c",
   "metadata": {},
   "outputs": [],
   "source": [
    "import pandas as pd\n",
    "import numpy as np\n",
    "import matplotlib.pyplot as plt\n",
    "import seaborn as sns\n",
    "import missingno as msno\n",
    "import warnings\n",
    "\n",
    "warnings.filterwarnings('ignore')\n",
    "pd.set_option('display.max_columns', None)\n",
    "pd.set_option('display.max_rows', 100)\n"
   ]
  },
  {
   "cell_type": "code",
   "execution_count": null,
   "id": "4b12f174",
   "metadata": {},
   "outputs": [],
   "source": [
    "# Load the Ames Housing dataset\n",
    "df = pd.read_csv('../extracted_data/AmesHousing.csv')\n",
    "df.shape, df.head()\n"
   ]
  },
  {
   "cell_type": "code",
   "execution_count": null,
   "id": "1043a5ac",
   "metadata": {},
   "outputs": [],
   "source": [
    "# Basic data types and info\n",
    "df.info()\n",
    "df.describe(include='all').T\n"
   ]
  },
  {
   "cell_type": "code",
   "execution_count": null,
   "id": "b2306b11",
   "metadata": {},
   "outputs": [],
   "source": [
    "# Visualize missing values\n",
    "msno.matrix(df)\n",
    "plt.title('Missing Value Matrix')\n",
    "plt.show()\n",
    "\n",
    "# Percentage of missing values per column\n",
    "missing_pct = df.isnull().mean() * 100\n",
    "missing_pct = missing_pct[missing_pct > 0].sort_values(ascending=False)\n",
    "missing_pct\n"
   ]
  },
  {
   "cell_type": "code",
   "execution_count": null,
   "id": "5f94b156",
   "metadata": {},
   "outputs": [],
   "source": [
    "# Histograms for numerical features\n",
    "numerical_cols = df.select_dtypes(include=[np.number]).columns\n",
    "df[numerical_cols].hist(figsize=(16, 12), bins=30)\n",
    "plt.tight_layout()\n",
    "plt.show()\n"
   ]
  },
  {
   "cell_type": "code",
   "execution_count": null,
   "id": "a412fe10",
   "metadata": {},
   "outputs": [],
   "source": [
    "# Count plots for top categorical features\n",
    "categorical_cols = df.select_dtypes(include='object').columns\n",
    "for col in categorical_cols[:5]:\n",
    "    plt.figure(figsize=(10, 4))\n",
    "    sns.countplot(y=df[col], order=df[col].value_counts().index)\n",
    "    plt.title(f'Distribution of {col}')\n",
    "    plt.show()\n"
   ]
  },
  {
   "cell_type": "code",
   "execution_count": null,
   "id": "ec0bc347",
   "metadata": {},
   "outputs": [],
   "source": [
    "# Correlation heatmap\n",
    "plt.figure(figsize=(12, 10))\n",
    "sns.heatmap(df[numerical_cols].corr(), annot=True, fmt='.2f', cmap='coolwarm')\n",
    "plt.title('Correlation Heatmap')\n",
    "plt.show()\n",
    "\n",
    "# Scatter plot: Gr Liv Area vs SalePrice\n",
    "plt.figure(figsize=(8, 6))\n",
    "sns.scatterplot(x='Gr Liv Area', y='SalePrice', data=df)\n",
    "plt.title('Gr Liv Area vs SalePrice')\n",
    "plt.show()\n"
   ]
  },
  {
   "cell_type": "code",
   "execution_count": null,
   "id": "5821992c",
   "metadata": {},
   "outputs": [],
   "source": [
    "# Boxplot of Overall Qual vs SalePrice\n",
    "plt.figure(figsize=(10, 6))\n",
    "sns.boxplot(x='Overall Qual', y='SalePrice', data=df)\n",
    "plt.title('Overall Qual vs SalePrice')\n",
    "plt.show()\n"
   ]
  },
  {
   "cell_type": "code",
   "execution_count": null,
   "id": "f09982ec",
   "metadata": {},
   "outputs": [],
   "source": [
    "# Pairplot of selected features\n",
    "selected_features = ['SalePrice', 'Gr Liv Area', 'Overall Qual', 'Total Bsmt SF', 'Year Built']\n",
    "sns.pairplot(df[selected_features])\n",
    "plt.suptitle('Multivariate Pairplot', y=1.02)\n",
    "plt.show()\n"
   ]
  },
  {
   "cell_type": "markdown",
   "id": "99919723",
   "metadata": {},
   "source": [
    "## Summary Insights\n",
    "- Higher `Overall Qual` and `Gr Liv Area` are positively correlated with `SalePrice`.\n",
    "- There are some missing values that might need imputation.\n",
    "- `Year Built` and `Total Bsmt SF` also influence the final price.\n",
    "- Categorical features like `Neighborhood` can be further analyzed for grouping impact.\n"
   ]
  }
 ],
 "metadata": {},
 "nbformat": 4,
 "nbformat_minor": 5
}
